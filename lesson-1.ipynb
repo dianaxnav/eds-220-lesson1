{
 "cells": [
  {
   "cell_type": "markdown",
   "id": "86168b38-5282-4689-8c3c-401d55a5ff97",
   "metadata": {},
   "source": [
    "# Numpy (Week 1-lesson1)\n",
    " \n",
    "- one of the core packages for numerical computing in python\n",
    "- many packages are built on top of numpy\n",
    "- numpy has been optimized for processing: \n",
    "    faster memory access\n"
   ]
  },
  {
   "cell_type": "code",
   "execution_count": 3,
   "id": "a8c35374-6f16-438f-bb95-b954335edcb2",
   "metadata": {
    "tags": []
   },
   "outputs": [],
   "source": [
    "# import numpy with standard abbreviation\n",
    "\n",
    "import numpy as np"
   ]
  },
  {
   "cell_type": "markdown",
   "id": "162d4a95-e8b9-4d72-9956-9444c89986c5",
   "metadata": {
    "tags": []
   },
   "source": [
    "## Variables \n",
    "\n",
    "we can think about variables as a name we assign to particular object in python \n",
    "\n",
    "For example:"
   ]
  },
  {
   "cell_type": "code",
   "execution_count": 4,
   "id": "3abf768e-5078-4558-a614-1435d966623b",
   "metadata": {
    "tags": []
   },
   "outputs": [],
   "source": [
    "# assign a small array to a variable a \n",
    "\n",
    "a = np.array( [ [1,1,2], [3, 5, 8], ] )"
   ]
  },
  {
   "cell_type": "markdown",
   "id": "5d94fbea-a8e5-4214-9ec8-0c9a23e666d9",
   "metadata": {},
   "source": [
    "when we run the cell we store the variable and its value. we can see the variables value in two ways:"
   ]
  },
  {
   "cell_type": "code",
   "execution_count": 5,
   "id": "4ff1cd7a-422f-4587-afc8-b96190c5a35b",
   "metadata": {
    "tags": []
   },
   "outputs": [
    {
     "data": {
      "text/plain": [
       "array([[1, 1, 2],\n",
       "       [3, 5, 8]])"
      ]
     },
     "execution_count": 5,
     "metadata": {},
     "output_type": "execute_result"
    }
   ],
   "source": [
    "a"
   ]
  },
  {
   "cell_type": "code",
   "execution_count": 6,
   "id": "3bdc321d-998a-4e94-ab6d-7ce83cbc2f24",
   "metadata": {
    "tags": []
   },
   "outputs": [
    {
     "name": "stdout",
     "output_type": "stream",
     "text": [
      "[[1 1 2]\n",
      " [3 5 8]]\n"
     ]
    }
   ],
   "source": [
    "print(a) #usually displays it nicer"
   ]
  },
  {
   "cell_type": "markdown",
   "id": "84464985-7fb1-442f-a451-5ce68620b963",
   "metadata": {},
   "source": [
    "## Naming variables\n",
    "in the class we are going to use 'snake_case' for naming variable.\n",
    "\n",
    "## Variables and objects\n",
    "**objects**: often encouraged in python documentation and tutorials\n",
    "\n",
    "object is a bundle of properties and actions of something specific\n",
    "\n",
    "Example:\n",
    "\n",
    "- objects: data frame \n",
    "- properties: number of rows, names of columns, data created\n",
    "- actions: selecting a row, adding a column \n",
    "\n",
    "A variable is a name we give a specific object, and the same object can be referenced by different variables\n",
    "\n",
    "Example: \n",
    "- The sun (actual star at the center of our solar system = object \n",
    "- sol = Spanish word for sun = variable \n",
    "- soleil = french for sun = another variable\n",
    "\n",
    "In practice: we will use object and variable interchangeably"
   ]
  },
  {
   "cell_type": "markdown",
   "id": "6e562f32-8b5e-4e3b-a9ae-0706a29ccc11",
   "metadata": {},
   "source": [
    "## Types \n",
    "\n",
    "Each object in python has a type \n",
    "\n",
    "type = what kind of object it is \n",
    "\n",
    "We can call the type of the object, the **classes** of the object \n",
    "\n",
    "We can see the type/class of an object by using the **type** function"
   ]
  },
  {
   "cell_type": "code",
   "execution_count": 7,
   "id": "cb095f04-68bb-4dce-a168-9327fd337189",
   "metadata": {
    "tags": []
   },
   "outputs": [
    {
     "name": "stdout",
     "output_type": "stream",
     "text": [
      "[[1 1 2]\n",
      " [3 5 8]]\n"
     ]
    },
    {
     "data": {
      "text/plain": [
       "numpy.ndarray"
      ]
     },
     "execution_count": 7,
     "metadata": {},
     "output_type": "execute_result"
    }
   ],
   "source": [
    "print(a)\n",
    "type(a)"
   ]
  },
  {
   "cell_type": "markdown",
   "id": "ad5a10f5-bc3d-40c1-bccd-04f331fb9b41",
   "metadata": {},
   "source": [
    "The **numpy.ndarray** is the core object/data type in the NumPy package. We can check the type of an entry in the array by indexing:"
   ]
  },
  {
   "cell_type": "code",
   "execution_count": 8,
   "id": "b2679c5f-9433-4425-94a9-3a0cda09af47",
   "metadata": {
    "tags": []
   },
   "outputs": [
    {
     "name": "stdout",
     "output_type": "stream",
     "text": [
      "1\n"
     ]
    },
    {
     "data": {
      "text/plain": [
       "numpy.int64"
      ]
     },
     "execution_count": 8,
     "metadata": {},
     "output_type": "execute_result"
    }
   ],
   "source": [
    "print(a[0,0]) #picking the first column in first row\n",
    "type(a[0,0])"
   ]
  },
  {
   "cell_type": "code",
   "execution_count": 10,
   "id": "48de7ca8-be6d-4249-b122-b7e48dabfdbe",
   "metadata": {
    "tags": []
   },
   "outputs": [
    {
     "name": "stdout",
     "output_type": "stream",
     "text": [
      "5\n"
     ]
    }
   ],
   "source": [
    "# how would you access the value of 5 in array a?\n",
    "\n",
    "print(a[1, 1])"
   ]
  },
  {
   "cell_type": "markdown",
   "id": "7ab4feda-9ac1-45d1-8568-e618c09c31bf",
   "metadata": {},
   "source": [
    "## Functions \n",
    "\n",
    "'print' was a our example of a python function! :) \n",
    "\n",
    "A function: \n",
    "- take in a set of **arguments**, separated by commas, and \n",
    "- use those arguments to produce some **output**\n",
    "\n",
    "argument = parameter : you might argument more often in the documentation \n",
    "\n",
    "We can ask information about a function by executing **?** followed by the function name: "
   ]
  },
  {
   "cell_type": "code",
   "execution_count": 11,
   "id": "eddf9d1b-b602-4629-bdb7-b4430d8b9787",
   "metadata": {
    "tags": []
   },
   "outputs": [
    {
     "data": {
      "text/plain": [
       "\u001b[0;31mDocstring:\u001b[0m\n",
       "print(value, ..., sep=' ', end='\\n', file=sys.stdout, flush=False)\n",
       "\n",
       "Prints the values to a stream, or to sys.stdout by default.\n",
       "Optional keyword arguments:\n",
       "file:  a file-like object (stream); defaults to the current sys.stdout.\n",
       "sep:   string inserted between values, default a space.\n",
       "end:   string appended after the last value, default a newline.\n",
       "flush: whether to forcibly flush the stream.\n",
       "\u001b[0;31mType:\u001b[0m      builtin_function_or_method\n"
      ]
     },
     "metadata": {},
     "output_type": "display_data"
    }
   ],
   "source": [
    "?print"
   ]
  },
  {
   "cell_type": "markdown",
   "id": "cb1095c2-04a0-4b32-89f1-7adb03737384",
   "metadata": {},
   "source": [
    "- first line: function showing all of its arguments in paranthesis \n",
    "- then a short description of what the function does \n",
    "- finally, a list of the arguments and a brief explanation of each of them.\n",
    "\n",
    "Different types of arguments inside the paranthesis. \n",
    "Roughly speaking, there are two types of arguments:\n",
    "\n",
    "- **non-optional arguments**: arguments you need to specify for the function to do something \n",
    "- **optional arguments**: arguments that are pre filled with a default value by its function, but we can override them. optional arguments inside the paranthesis () in the form.\n",
    "\n",
    "'optional arguments = default_ value'\n"
   ]
  },
  {
   "cell_type": "markdown",
   "id": "dc2e6ae0-bcf0-4a6b-9b04-0a16eae313cf",
   "metadata": {},
   "source": [
    "# Attributes and Methods (Week1- lesson2)\n",
    "\n",
    "An object in python has attributes and methods.\n",
    "\n",
    "-**attributes**: a property of an object, a piece of information about it.\n",
    "\n",
    "-**method**: a procedure associated with an object, an action where the main ingredient is object itself \n",
    "\n",
    "Access a variable attributes and methods by adding a period '.' at the end of the variable's name.\n",
    "\n",
    "***'variable.variable_method()'*** or \n",
    "***'variable.variable_attribute'***\n",
    "\n",
    "Examples: \n",
    "Methods and attributes of NumPy arrays."
   ]
  },
  {
   "cell_type": "code",
   "execution_count": 3,
   "id": "91efce3f-d7d9-403f-b8a5-258c1e811dab",
   "metadata": {
    "tags": []
   },
   "outputs": [
    {
     "data": {
      "text/plain": [
       "array([[1, 2, 3],\n",
       "       [4, 5, 6],\n",
       "       [7, 8, 9]])"
      ]
     },
     "execution_count": 3,
     "metadata": {},
     "output_type": "execute_result"
    }
   ],
   "source": [
    "#define a 3x3 array\n",
    "import numpy as np\n",
    "\n",
    "var = np.array( [ [1,2,3], [4,5,6], [7,8,9] ] )\n",
    "var"
   ]
  },
  {
   "cell_type": "code",
   "execution_count": 4,
   "id": "a5e40ff4-b7fe-4602-b81c-182a6b3c0734",
   "metadata": {
    "tags": []
   },
   "outputs": [
    {
     "data": {
      "text/plain": [
       "(3, 3)"
      ]
     },
     "execution_count": 4,
     "metadata": {},
     "output_type": "execute_result"
    }
   ],
   "source": [
    "#shape: attribute tell us the number of elements in each dimension of the array\n",
    "var.shape"
   ]
  },
  {
   "cell_type": "code",
   "execution_count": 5,
   "id": "9c198f6c-4a6d-45b4-b346-6847f27adee8",
   "metadata": {
    "tags": []
   },
   "outputs": [
    {
     "data": {
      "text/plain": [
       "tuple"
      ]
     },
     "execution_count": 5,
     "metadata": {},
     "output_type": "execute_result"
    }
   ],
   "source": [
    "type(var.shape)"
   ]
  },
  {
   "cell_type": "code",
   "execution_count": 7,
   "id": "a13f386d-e77a-431d-8e66-cc13ac034ccb",
   "metadata": {
    "tags": []
   },
   "outputs": [
    {
     "data": {
      "text/plain": [
       "int"
      ]
     },
     "execution_count": 7,
     "metadata": {},
     "output_type": "execute_result"
    }
   ],
   "source": [
    "#ndim is an attribute holding the number of array dimensions \n",
    "var.ndim\n",
    "type(var.ndim)"
   ]
  },
  {
   "cell_type": "markdown",
   "id": "67bfbb52-c716-4333-9bcb-e2072ee33915",
   "metadata": {},
   "source": [
    "Noticed attributes can have many different data types\n",
    "\n",
    "Examples of methods: "
   ]
  },
  {
   "cell_type": "code",
   "execution_count": 9,
   "id": "168138c4-eccb-430c-8991-33c2d9788e27",
   "metadata": {
    "tags": []
   },
   "outputs": [
    {
     "data": {
      "text/plain": [
       "builtin_function_or_method"
      ]
     },
     "execution_count": 9,
     "metadata": {},
     "output_type": "execute_result"
    }
   ],
   "source": [
    "#min method for the array (return the min value in array too)\n",
    "\n",
    "var.min()\n",
    "\n",
    "type(var.min)"
   ]
  },
  {
   "cell_type": "markdown",
   "id": "bb9ed65f-fabd-487e-a3ae-3d08f3beb993",
   "metadata": {},
   "source": [
    "## R & Python\n",
    "\n",
    "R: \n",
    "- doesn't use methods within an object\n",
    "- functions in R are extrinsic to (outside) the objects they are acting on \n",
    "\n",
    "Examples: recreate getting the min value in an array\n",
    "\n",
    "In R there would be two separate items: the variable \"var\" and a *separate* function 'min' that gets 'var' as a parameter \n",
    "\n",
    "#this is r code \n",
    "\n",
    "var <- array(c(2,3,45,6,67,7,7), dim=c(3,3)\n",
    "min(var)\n",
    "\n",
    "\n",
    "Using the pype operator >%> in R's tidyverse is closer to the '.' in python:\n",
    "\n",
    "var <- array(c(2,3,45,6,67,7,7), dim=c(3,3)\n",
    "var >%> min()\n",
    "\n",
    "What is happening?\n",
    "The pipe '>%>' is passing 'var' to the 'min()' as its first argument. This is essentially what the period does in python:\n",
    "\n",
    "\n"
   ]
  }
 ],
 "metadata": {
  "kernelspec": {
   "display_name": "Anaconda 3 (Base)",
   "language": "python",
   "name": "base"
  },
  "language_info": {
   "codemirror_mode": {
    "name": "ipython",
    "version": 3
   },
   "file_extension": ".py",
   "mimetype": "text/x-python",
   "name": "python",
   "nbconvert_exporter": "python",
   "pygments_lexer": "ipython3",
   "version": "3.9.13"
  }
 },
 "nbformat": 4,
 "nbformat_minor": 5
}
