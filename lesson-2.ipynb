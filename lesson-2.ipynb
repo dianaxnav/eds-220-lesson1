{
 "cells": [
  {
   "cell_type": "markdown",
   "id": "61d45147-54d4-483d-97c3-d2021ad61395",
   "metadata": {},
   "source": [
    "# Objectives:\n",
    "\n",
    "Review core 'pandas' object: 'pandas.series' and 'pandas.DataFrame'\n",
    "\n",
    "# pandas: \n",
    "\n",
    "- Python package to wrangle and analyze tabular data \n",
    "- built on top of NumPy\n",
    "- core tool for data analysis in Python\n"
   ]
  },
  {
   "cell_type": "code",
   "execution_count": 5,
   "id": "a887d7d5-34ac-4ca4-9b82-7d0ce64739bf",
   "metadata": {
    "tags": []
   },
   "outputs": [],
   "source": [
    "#import pandas and numpy \n",
    "\n",
    "import pandas as pd \n",
    "import numpy as np"
   ]
  },
  {
   "cell_type": "markdown",
   "id": "9f8a82f8-aa52-411d-ab44-b7ceab08597a",
   "metadata": {},
   "source": [
    "## Series \n",
    "\n",
    "A 'pandas.series' is one of the core data structures in pandas\n",
    "\n",
    "- 1d array of *indexed* data \n",
    "- will be the cols of the 'panda.DataFrame'\n",
    "\n",
    "## Creating a pandas series\n",
    "\n",
    "Several ways of creating a pandas series.\n",
    "For now we will create series using: \n",
    "\n",
    "```\n",
    "S = pd.Series(data, index=index)\n",
    "```\n",
    "\n",
    "- `data` = numpy array(or a list of objects that can be converted to numpy types)\n",
    "- `index` = a list of of indices odd same height as data\n"
   ]
  },
  {
   "cell_type": "code",
   "execution_count": 7,
   "id": "3f68614b-408d-4b68-bf17-866480d287d3",
   "metadata": {
    "tags": []
   },
   "outputs": [
    {
     "data": {
      "text/plain": [
       "array([0, 1, 2])"
      ]
     },
     "execution_count": 7,
     "metadata": {},
     "output_type": "execute_result"
    }
   ],
   "source": [
    "# Ex: a pandas series from a numpy array\n",
    "\n",
    "#np.arrange() function constructs an arrray of consecutive integers\n",
    "\n",
    "np.arange(3)\n"
   ]
  },
  {
   "cell_type": "code",
   "execution_count": 6,
   "id": "6b63c87d-56b5-45f1-ad3c-6b1a93ef2d36",
   "metadata": {
    "tags": []
   },
   "outputs": [
    {
     "data": {
      "text/plain": [
       "a    0\n",
       "b    1\n",
       "c    2\n",
       "dtype: int64"
      ]
     },
     "execution_count": 6,
     "metadata": {},
     "output_type": "execute_result"
    }
   ],
   "source": [
    "#we can use this to create a pandas series\n",
    "\n",
    "pd.Series(np.arange(3), index = ['a','b','c'])\n"
   ]
  },
  {
   "cell_type": "markdown",
   "id": "4352dafc-ef0c-4262-8208-3b1c24ee9849",
   "metadata": {},
   "source": [
    "What kind of parameter is index?\n",
    "\n",
    "A: an optional parameter, there is a default value to it. \n",
    "\n",
    "If we dont specify `index`, the default is to start the index from 0.\n",
    "\n",
    "Example:"
   ]
  },
  {
   "cell_type": "code",
   "execution_count": 8,
   "id": "3eb7cf8d-42f4-47b6-b487-d50de4ae51aa",
   "metadata": {
    "tags": []
   },
   "outputs": [
    {
     "data": {
      "text/plain": [
       "0    EDS 220\n",
       "1    EDS 223\n",
       "2    EDS 223\n",
       "3    EDS 242\n",
       "dtype: object"
      ]
     },
     "execution_count": 8,
     "metadata": {},
     "output_type": "execute_result"
    }
   ],
   "source": [
    "#create a series from a list of strings with default index \n",
    "\n",
    "pd.Series(['EDS 220', 'EDS 223', 'EDS 223', 'EDS 242'])\n"
   ]
  },
  {
   "cell_type": "markdown",
   "id": "0e2f2d20-743d-4f79-a3b5-db8feb4bfa53",
   "metadata": {},
   "source": [
    "## Operation of series\n",
    "\n",
    "Arithmetic operations work on series on also most numpy functions\n",
    "\n",
    "Example:"
   ]
  },
  {
   "cell_type": "code",
   "execution_count": 10,
   "id": "1512ebc5-b8d6-4179-9f96-826d5c406aa3",
   "metadata": {
    "tags": []
   },
   "outputs": [
    {
     "name": "stdout",
     "output_type": "stream",
     "text": [
      "Andrea      98\n",
      "Beth        75\n",
      "Carolina    65\n",
      "dtype: int64 \n",
      "\n",
      "Andrea      9.8\n",
      "Beth        7.5\n",
      "Carolina    6.5\n",
      "dtype: float64\n"
     ]
    }
   ],
   "source": [
    "#define a series\n",
    "S = pd.Series( [98, 75, 65], index = ['Andrea','Beth', 'Carolina'])\n",
    "\n",
    "print(S, '\\n')\n",
    "\n",
    "#divide each element in the series by 10\n",
    "\n",
    "print(S/10)\n"
   ]
  },
  {
   "cell_type": "markdown",
   "id": "f386d79e-9591-49cc-ac6c-8a7e10203abe",
   "metadata": {},
   "source": [
    "Create a new series with `true` /`false` values indicating whether the elements in the series satisfy a condition or not"
   ]
  },
  {
   "cell_type": "code",
   "execution_count": 11,
   "id": "b2880ee7-34a6-44e9-aed2-d39da82ee261",
   "metadata": {
    "tags": []
   },
   "outputs": [
    {
     "data": {
      "text/plain": [
       "Andrea       True\n",
       "Beth         True\n",
       "Carolina    False\n",
       "dtype: bool"
      ]
     },
     "execution_count": 11,
     "metadata": {},
     "output_type": "execute_result"
    }
   ],
   "source": [
    "S>=70"
   ]
  },
  {
   "cell_type": "markdown",
   "id": "0dc28c3f-1940-4954-8f4d-49a7e6f94772",
   "metadata": {},
   "source": [
    "This is simple but important!!!\n",
    "\n",
    "Using conditions on series is key to select data from dataframes."
   ]
  },
  {
   "cell_type": "markdown",
   "id": "8e12ef3e-7aa6-4f0d-bdcd-b1c0183f4548",
   "metadata": {},
   "source": [
    "## Attributes and methods\n",
    "\n",
    "two examples about identifying missing values \n",
    "\n",
    "- missing values in `pandas` are represented by `np.NaN` = not a number "
   ]
  },
  {
   "cell_type": "code",
   "execution_count": 16,
   "id": "2832d641-2c08-4494-84ac-951ca283d67a",
   "metadata": {
    "tags": []
   },
   "outputs": [],
   "source": [
    "import numpy as np\n",
    "s = pd.Series([1, 2, np.NaN, 4, np.NaN])"
   ]
  },
  {
   "cell_type": "code",
   "execution_count": 17,
   "id": "ff2e2417-bb44-4e33-a273-4c1411e335ac",
   "metadata": {
    "tags": []
   },
   "outputs": [
    {
     "data": {
      "text/plain": [
       "True"
      ]
     },
     "execution_count": 17,
     "metadata": {},
     "output_type": "execute_result"
    }
   ],
   "source": [
    "s.hasnans"
   ]
  },
  {
   "cell_type": "code",
   "execution_count": 18,
   "id": "6c12db8f-9a39-4b65-8c85-2cfc1a922025",
   "metadata": {
    "tags": []
   },
   "outputs": [
    {
     "data": {
      "text/plain": [
       "0    False\n",
       "1    False\n",
       "2     True\n",
       "3    False\n",
       "4     True\n",
       "dtype: bool"
      ]
     },
     "execution_count": 18,
     "metadata": {},
     "output_type": "execute_result"
    }
   ],
   "source": [
    "s.isna()"
   ]
  },
  {
   "cell_type": "markdown",
   "id": "029bf8ad-451d-4c95-bd52-59dfd56ae005",
   "metadata": {},
   "source": [
    "## Dataframes\n",
    "\n",
    "`pandas.DataFrame` :\n",
    "\n",
    "- most used object in `pandas`\n",
    "- represents tabular data \n",
    "- each column is a `pandas.Series`\n",
    "\n",
    "## Creating a `pandas.DataFrame`\n",
    "\n",
    "*Many ways of creating a dataframe*. Lets see one.\n",
    "\n",
    "Sets of key-value pairs:\n",
    "\n",
    "```\n",
    "{\n",
    "key1: value1,\n",
    "key2: value2\n",
    "}\n",
    "```\n",
    "\n",
    "Think of pandas data frame as a dictionary where: \n",
    "- keys: column names\n",
    "- values: column values \n",
    "\n",
    "lets create a data frame"
   ]
  },
  {
   "cell_type": "code",
   "execution_count": 22,
   "id": "b5c32632-ccfa-4231-a5bd-8bac7ef56f30",
   "metadata": {
    "tags": []
   },
   "outputs": [
    {
     "data": {
      "text/plain": [
       "{'col_name1': array([0, 1, 2]), 'col_name2': [3.1, 3.2, 3.3]}"
      ]
     },
     "execution_count": 22,
     "metadata": {},
     "output_type": "execute_result"
    }
   ],
   "source": [
    "#initialize dictionary with columns data\n",
    "\n",
    "d = {'col_name1': np.arange(3),\n",
    "    'col_name2': [3.1, 3.2, 3.3]\n",
    "    }\n",
    "d"
   ]
  },
  {
   "cell_type": "code",
   "execution_count": 23,
   "id": "af9fc4dd-a18c-4a78-bf06-d09e807db73a",
   "metadata": {
    "tags": []
   },
   "outputs": [
    {
     "data": {
      "text/html": [
       "<div>\n",
       "<style scoped>\n",
       "    .dataframe tbody tr th:only-of-type {\n",
       "        vertical-align: middle;\n",
       "    }\n",
       "\n",
       "    .dataframe tbody tr th {\n",
       "        vertical-align: top;\n",
       "    }\n",
       "\n",
       "    .dataframe thead th {\n",
       "        text-align: right;\n",
       "    }\n",
       "</style>\n",
       "<table border=\"1\" class=\"dataframe\">\n",
       "  <thead>\n",
       "    <tr style=\"text-align: right;\">\n",
       "      <th></th>\n",
       "      <th>col_name1</th>\n",
       "      <th>col_name2</th>\n",
       "    </tr>\n",
       "  </thead>\n",
       "  <tbody>\n",
       "    <tr>\n",
       "      <th>0</th>\n",
       "      <td>0</td>\n",
       "      <td>3.1</td>\n",
       "    </tr>\n",
       "    <tr>\n",
       "      <th>1</th>\n",
       "      <td>1</td>\n",
       "      <td>3.2</td>\n",
       "    </tr>\n",
       "    <tr>\n",
       "      <th>2</th>\n",
       "      <td>2</td>\n",
       "      <td>3.3</td>\n",
       "    </tr>\n",
       "  </tbody>\n",
       "</table>\n",
       "</div>"
      ],
      "text/plain": [
       "   col_name1  col_name2\n",
       "0          0        3.1\n",
       "1          1        3.2\n",
       "2          2        3.3"
      ]
     },
     "execution_count": 23,
     "metadata": {},
     "output_type": "execute_result"
    }
   ],
   "source": [
    "#create a data frame \n",
    "\n",
    "df = pd.DataFrame(d)\n",
    "\n",
    "df"
   ]
  },
  {
   "cell_type": "markdown",
   "id": "455caea3-243d-424d-81c0-30a81bde0e87",
   "metadata": {},
   "source": [
    "## In place operations\n",
    "\n",
    "Lets rename the dataframes columns:\n",
    "\n",
    "We can use the dataframe *method* called `rename`.\n",
    "\n",
    "`rename` takes in an input dictionary:\n",
    "\n",
    "```\n",
    "{\n",
    "'col_old_name': 'col_new_name',\n",
    "'col_2_old_name': 'col_2_new_name'}\n",
    "```"
   ]
  },
  {
   "cell_type": "code",
   "execution_count": 32,
   "id": "88fed781-db29-46dc-ae24-7d14d08b5668",
   "metadata": {
    "tags": []
   },
   "outputs": [
    {
     "data": {
      "text/html": [
       "<div>\n",
       "<style scoped>\n",
       "    .dataframe tbody tr th:only-of-type {\n",
       "        vertical-align: middle;\n",
       "    }\n",
       "\n",
       "    .dataframe tbody tr th {\n",
       "        vertical-align: top;\n",
       "    }\n",
       "\n",
       "    .dataframe thead th {\n",
       "        text-align: right;\n",
       "    }\n",
       "</style>\n",
       "<table border=\"1\" class=\"dataframe\">\n",
       "  <thead>\n",
       "    <tr style=\"text-align: right;\">\n",
       "      <th></th>\n",
       "      <th>col1</th>\n",
       "      <th>col2</th>\n",
       "    </tr>\n",
       "  </thead>\n",
       "  <tbody>\n",
       "    <tr>\n",
       "      <th>0</th>\n",
       "      <td>0</td>\n",
       "      <td>3.1</td>\n",
       "    </tr>\n",
       "    <tr>\n",
       "      <th>1</th>\n",
       "      <td>1</td>\n",
       "      <td>3.2</td>\n",
       "    </tr>\n",
       "    <tr>\n",
       "      <th>2</th>\n",
       "      <td>2</td>\n",
       "      <td>3.3</td>\n",
       "    </tr>\n",
       "  </tbody>\n",
       "</table>\n",
       "</div>"
      ],
      "text/plain": [
       "   col1  col2\n",
       "0     0   3.1\n",
       "1     1   3.2\n",
       "2     2   3.3"
      ]
     },
     "execution_count": 32,
     "metadata": {},
     "output_type": "execute_result"
    }
   ],
   "source": [
    "#Define new columns names \n",
    "\n",
    "col_names = {\n",
    "    'col_name1' :'col1',\n",
    "    'col_name2' : 'col2'\n",
    "}\n",
    "\n",
    "#rename using rename \n",
    "df.rename(columns = col_names)"
   ]
  },
  {
   "cell_type": "markdown",
   "id": "4dbea3c2-f8c0-47bd-8f29-cb8f742ad310",
   "metadata": {},
   "source": [
    "`df.rename` doesnt change the columns names in place, meaning it doesnt modify the object itself.\n",
    "\n",
    "Assign it back:"
   ]
  },
  {
   "cell_type": "code",
   "execution_count": 33,
   "id": "e4a80343-9c4c-42f7-a285-5ff6c53c0145",
   "metadata": {
    "tags": []
   },
   "outputs": [
    {
     "data": {
      "text/html": [
       "<div>\n",
       "<style scoped>\n",
       "    .dataframe tbody tr th:only-of-type {\n",
       "        vertical-align: middle;\n",
       "    }\n",
       "\n",
       "    .dataframe tbody tr th {\n",
       "        vertical-align: top;\n",
       "    }\n",
       "\n",
       "    .dataframe thead th {\n",
       "        text-align: right;\n",
       "    }\n",
       "</style>\n",
       "<table border=\"1\" class=\"dataframe\">\n",
       "  <thead>\n",
       "    <tr style=\"text-align: right;\">\n",
       "      <th></th>\n",
       "      <th>col1</th>\n",
       "      <th>col2</th>\n",
       "    </tr>\n",
       "  </thead>\n",
       "  <tbody>\n",
       "    <tr>\n",
       "      <th>0</th>\n",
       "      <td>0</td>\n",
       "      <td>3.1</td>\n",
       "    </tr>\n",
       "    <tr>\n",
       "      <th>1</th>\n",
       "      <td>1</td>\n",
       "      <td>3.2</td>\n",
       "    </tr>\n",
       "    <tr>\n",
       "      <th>2</th>\n",
       "      <td>2</td>\n",
       "      <td>3.3</td>\n",
       "    </tr>\n",
       "  </tbody>\n",
       "</table>\n",
       "</div>"
      ],
      "text/plain": [
       "   col1  col2\n",
       "0     0   3.1\n",
       "1     1   3.2\n",
       "2     2   3.3"
      ]
     },
     "execution_count": 33,
     "metadata": {},
     "output_type": "execute_result"
    }
   ],
   "source": [
    "df = df.rename(columns = col_names)\n",
    "\n",
    "df"
   ]
  }
 ],
 "metadata": {
  "kernelspec": {
   "display_name": "Anaconda 3 (Base)",
   "language": "python",
   "name": "base"
  },
  "language_info": {
   "codemirror_mode": {
    "name": "ipython",
    "version": 3
   },
   "file_extension": ".py",
   "mimetype": "text/x-python",
   "name": "python",
   "nbconvert_exporter": "python",
   "pygments_lexer": "ipython3",
   "version": "3.9.13"
  }
 },
 "nbformat": 4,
 "nbformat_minor": 5
}
